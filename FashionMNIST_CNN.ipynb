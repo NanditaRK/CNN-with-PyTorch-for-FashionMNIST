{
  "nbformat": 4,
  "nbformat_minor": 0,
  "metadata": {
    "colab": {
      "provenance": [],
      "toc_visible": true
    },
    "kernelspec": {
      "name": "python3",
      "display_name": "Python 3"
    },
    "language_info": {
      "name": "python"
    }
  },
  "cells": [
    {
      "cell_type": "code",
      "source": [
        "import torch\n",
        "from torch import nn\n",
        "from torch.utils.data import Dataset\n",
        "from torchvision import datasets\n",
        "from torchvision.transforms import ToTensor\n",
        "import matplotlib.pyplot as plt\n",
        "import torch.optim as optim\n",
        "\n",
        "\n",
        "\n",
        "#import dataset\n",
        "\n",
        "training_data = datasets.FashionMNIST(root=\"data\",\n",
        "    train=True,\n",
        "    download=True,\n",
        "    transform=ToTensor())\n",
        "\n",
        "test_data = datasets.FashionMNIST(\n",
        "    root=\"data\",\n",
        "    train=False,\n",
        "    download=True,\n",
        "    transform=ToTensor()\n",
        ")"
      ],
      "metadata": {
        "id": "nveFRylxFCMY"
      },
      "execution_count": 4,
      "outputs": []
    },
    {
      "cell_type": "code",
      "source": [
        "from torch.utils.data import DataLoader\n",
        "\n",
        "train_dataloader = DataLoader(training_data, batch_size=64, shuffle=True)\n",
        "test_dataloader = DataLoader(test_data, batch_size=64, shuffle=True)\n"
      ],
      "metadata": {
        "id": "DKGV2n73v_Vh"
      },
      "execution_count": 5,
      "outputs": []
    },
    {
      "cell_type": "code",
      "source": [
        "device = torch.accelerator.current_accelerator().type if torch.accelerator.is_available() else \"cpu\"\n",
        "print(f\"Using {device} device\")"
      ],
      "metadata": {
        "colab": {
          "base_uri": "https://localhost:8080/"
        },
        "id": "9zH3BThVwRwI",
        "outputId": "e3ba2e0e-4090-4486-c6bd-5994d22a5be1"
      },
      "execution_count": 6,
      "outputs": [
        {
          "output_type": "stream",
          "name": "stdout",
          "text": [
            "Using cpu device\n"
          ]
        }
      ]
    },
    {
      "cell_type": "code",
      "source": [
        "class FashionClassifier(nn.Module):\n",
        "  def __init__(self):\n",
        "        super().__init__()\n",
        "        self.conv1 = nn.Conv2d(1, 32, kernel_size=(3,3), stride=1, padding=1)\n",
        "        self.act1 = nn.ReLU()\n",
        "        self.drop1 = nn.Dropout(0.3)\n",
        "\n",
        "        self.conv2 = nn.Conv2d(32, 32, kernel_size=(3,3), stride=1, padding=1)\n",
        "        self.act2 = nn.ReLU()\n",
        "        self.pool2 = nn.MaxPool2d(kernel_size=(2, 2))\n",
        "\n",
        "        self.flat = nn.Flatten()\n",
        "\n",
        "        self.fc3 = nn.Linear(6272, 512)\n",
        "        self.act3 = nn.ReLU()\n",
        "        self.drop3 = nn.Dropout(0.5)\n",
        "\n",
        "        self.fc4 = nn.Linear(512, 10)\n",
        "\n",
        "  def forward(self, x):\n",
        "\n",
        "        x = self.act1(self.conv1(x))\n",
        "        x = self.drop1(x)\n",
        "\n",
        "        x = self.act2(self.conv2(x))\n",
        "\n",
        "        x = self.pool2(x)\n",
        "\n",
        "        x = self.flat(x)\n",
        "\n",
        "        x = self.act3(self.fc3(x))\n",
        "        x = self.drop3(x)\n",
        "\n",
        "        x = self.fc4(x)\n",
        "        return x\n",
        "\n"
      ],
      "metadata": {
        "id": "NQq32t7XwUgL"
      },
      "execution_count": 14,
      "outputs": []
    },
    {
      "cell_type": "code",
      "source": [
        "model = FashionClassifier()\n",
        "loss_fn = nn.CrossEntropyLoss()\n",
        "optimizer = optim.SGD(model.parameters(), lr=0.001, momentum=0.9)\n",
        "\n",
        "n_epochs = 20\n",
        "for epoch in range(n_epochs):\n",
        "    for inputs, labels in train_dataloader:\n",
        "        # forward, backward, and then weight update\n",
        "        y_pred = model(inputs)\n",
        "        loss = loss_fn(y_pred, labels)\n",
        "        optimizer.zero_grad()\n",
        "        loss.backward()\n",
        "        optimizer.step()\n",
        "\n",
        "    acc = 0\n",
        "    count = 0\n",
        "    for inputs, labels in test_dataloader:\n",
        "        y_pred = model(inputs)\n",
        "        acc += (torch.argmax(y_pred, 1) == labels).float().sum()\n",
        "        count += len(labels)\n",
        "    acc /= count\n",
        "    print(\"Epoch %d: model accuracy %.2f%%\" % (epoch, acc*100))"
      ],
      "metadata": {
        "colab": {
          "base_uri": "https://localhost:8080/"
        },
        "id": "VNWUzWGH1W9t",
        "outputId": "43883d2b-0a10-40c3-a836-c075240be03f"
      },
      "execution_count": 15,
      "outputs": [
        {
          "output_type": "stream",
          "name": "stdout",
          "text": [
            "Epoch 0: model accuracy 75.17%\n",
            "Epoch 1: model accuracy 79.62%\n",
            "Epoch 2: model accuracy 80.97%\n",
            "Epoch 3: model accuracy 80.32%\n",
            "Epoch 4: model accuracy 82.32%\n",
            "Epoch 5: model accuracy 82.53%\n",
            "Epoch 6: model accuracy 84.09%\n",
            "Epoch 7: model accuracy 84.21%\n",
            "Epoch 8: model accuracy 84.65%\n",
            "Epoch 9: model accuracy 84.70%\n",
            "Epoch 10: model accuracy 85.05%\n",
            "Epoch 11: model accuracy 84.86%\n",
            "Epoch 12: model accuracy 85.89%\n",
            "Epoch 13: model accuracy 86.27%\n",
            "Epoch 14: model accuracy 86.15%\n",
            "Epoch 15: model accuracy 86.58%\n",
            "Epoch 16: model accuracy 86.74%\n",
            "Epoch 17: model accuracy 87.12%\n",
            "Epoch 18: model accuracy 87.31%\n",
            "Epoch 19: model accuracy 87.02%\n"
          ]
        }
      ]
    }
  ]
}